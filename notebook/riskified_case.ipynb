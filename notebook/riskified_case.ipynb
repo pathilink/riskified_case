{
  "nbformat": 4,
  "nbformat_minor": 0,
  "metadata": {
    "colab": {
      "provenance": [],
      "toc_visible": true,
      "mount_file_id": "1G4XNqaLbYycLViB2yws6eiquMicfFoaK",
      "authorship_tag": "ABX9TyPDWJo5M/E6pUh9VQ191Ev2",
      "include_colab_link": true
    },
    "kernelspec": {
      "name": "python3",
      "display_name": "Python 3"
    },
    "language_info": {
      "name": "python"
    }
  },
  "cells": [
    {
      "cell_type": "markdown",
      "metadata": {
        "id": "view-in-github",
        "colab_type": "text"
      },
      "source": [
        "<a href=\"https://colab.research.google.com/github/pathilink/riskified_case/blob/main/notebook/riskified_case.ipynb\" target=\"_parent\"><img src=\"https://colab.research.google.com/assets/colab-badge.svg\" alt=\"Open In Colab\"/></a>"
      ]
    },
    {
      "cell_type": "markdown",
      "source": [
        "# <font color=#482BFF>Riskified</font> <font color=#01BFA6>Case</font>\n",
        "\n"
      ],
      "metadata": {
        "id": "joQymX5jjLPk"
      }
    },
    {
      "cell_type": "markdown",
      "source": [
        "**Tasks**\n",
        "\n",
        "1. Rely exclusively on model scores, and set a decline threshold that will provide a 90% approval rate\n",
        "2. Plot the model scores distribution\n",
        "3. Assuming we aim at a proportion of 50% between the CHB cost and the total revenue (sum amount of CHBs divided by the total revenue), what would have to be the fee?\n"
      ],
      "metadata": {
        "id": "Ki8EVblCyknS"
      }
    },
    {
      "cell_type": "markdown",
      "source": [
        "## Libraries"
      ],
      "metadata": {
        "id": "UQRC5L7TizzU"
      }
    },
    {
      "cell_type": "code",
      "execution_count": 1,
      "metadata": {
        "id": "D_1X8cIrixrQ"
      },
      "outputs": [],
      "source": [
        "import pandas as pd\n",
        "import seaborn as sns\n",
        "import matplotlib.pyplot as plt\n"
      ]
    },
    {
      "cell_type": "markdown",
      "source": [
        "## Data"
      ],
      "metadata": {
        "id": "gTqc6hUvi6AV"
      }
    },
    {
      "cell_type": "markdown",
      "source": [
        "| Variable | Description |\n",
        "|:--|:--|\n",
        "| order_id | A unique identifier for an order |\n",
        "| order_submitted_at | The date in which the order was submitted to Riskified |\n",
        "| order_status | The actual status of an order (in this dataset we included only approvals and chargebacks) |\n",
        "| price | Order total amount |\n",
        "| digital_product | Whether the product is digital or tangible |\n",
        "| customer_account_age | The interval between the date the account was created and the order was placed |\n",
        "| order_source | The type of device used to place the order (web/mobile device app/phone/etc.) |\n",
        "| billing_zip | The zip code filled in the billing details |\n",
        "| shipping_name_length | Shipping name number of characters |"
      ],
      "metadata": {
        "id": "zQ9YZXyqdwXp"
      }
    },
    {
      "cell_type": "code",
      "source": [
        "df = pd.read_csv('/content/drive/MyDrive/test/riskified/new_dataset.csv')\n",
        "df.head()"
      ],
      "metadata": {
        "colab": {
          "base_uri": "https://localhost:8080/",
          "height": 226
        },
        "id": "tPKTU89vi7Y5",
        "outputId": "04d63dd5-a9b9-44f2-bbc1-66fe11dc55f0"
      },
      "execution_count": 2,
      "outputs": [
        {
          "output_type": "execute_result",
          "data": {
            "text/plain": [
              "    order_id  order_date order_status    price  digital_product  \\\n",
              "0  906967102  2019-06-01     approved   213.88            False   \n",
              "1  906987974  2019-06-01     approved    50.00             True   \n",
              "2  906994260  2019-06-01     approved   100.00             True   \n",
              "3  906997653  2019-06-01     approved    25.00             True   \n",
              "4  907408483  2019-06-01     approved  2035.76            False   \n",
              "\n",
              "   customer_account_age order_source billing_zip  shipping_name_length  \\\n",
              "0                     0          web       33062                    13   \n",
              "1                     0   mobile_app       48317                     0   \n",
              "2                   328          web       92124                     0   \n",
              "3                  1371          web       95448                     0   \n",
              "4                   139          web       61107                    17   \n",
              "\n",
              "   classification_score  \n",
              "0              0.999219  \n",
              "1              0.995886  \n",
              "2              0.966901  \n",
              "3              0.999854  \n",
              "4              0.999965  "
            ],
            "text/html": [
              "\n",
              "  <div id=\"df-1269add4-0edf-4c15-a55f-02aea7c31835\" class=\"colab-df-container\">\n",
              "    <div>\n",
              "<style scoped>\n",
              "    .dataframe tbody tr th:only-of-type {\n",
              "        vertical-align: middle;\n",
              "    }\n",
              "\n",
              "    .dataframe tbody tr th {\n",
              "        vertical-align: top;\n",
              "    }\n",
              "\n",
              "    .dataframe thead th {\n",
              "        text-align: right;\n",
              "    }\n",
              "</style>\n",
              "<table border=\"1\" class=\"dataframe\">\n",
              "  <thead>\n",
              "    <tr style=\"text-align: right;\">\n",
              "      <th></th>\n",
              "      <th>order_id</th>\n",
              "      <th>order_date</th>\n",
              "      <th>order_status</th>\n",
              "      <th>price</th>\n",
              "      <th>digital_product</th>\n",
              "      <th>customer_account_age</th>\n",
              "      <th>order_source</th>\n",
              "      <th>billing_zip</th>\n",
              "      <th>shipping_name_length</th>\n",
              "      <th>classification_score</th>\n",
              "    </tr>\n",
              "  </thead>\n",
              "  <tbody>\n",
              "    <tr>\n",
              "      <th>0</th>\n",
              "      <td>906967102</td>\n",
              "      <td>2019-06-01</td>\n",
              "      <td>approved</td>\n",
              "      <td>213.88</td>\n",
              "      <td>False</td>\n",
              "      <td>0</td>\n",
              "      <td>web</td>\n",
              "      <td>33062</td>\n",
              "      <td>13</td>\n",
              "      <td>0.999219</td>\n",
              "    </tr>\n",
              "    <tr>\n",
              "      <th>1</th>\n",
              "      <td>906987974</td>\n",
              "      <td>2019-06-01</td>\n",
              "      <td>approved</td>\n",
              "      <td>50.00</td>\n",
              "      <td>True</td>\n",
              "      <td>0</td>\n",
              "      <td>mobile_app</td>\n",
              "      <td>48317</td>\n",
              "      <td>0</td>\n",
              "      <td>0.995886</td>\n",
              "    </tr>\n",
              "    <tr>\n",
              "      <th>2</th>\n",
              "      <td>906994260</td>\n",
              "      <td>2019-06-01</td>\n",
              "      <td>approved</td>\n",
              "      <td>100.00</td>\n",
              "      <td>True</td>\n",
              "      <td>328</td>\n",
              "      <td>web</td>\n",
              "      <td>92124</td>\n",
              "      <td>0</td>\n",
              "      <td>0.966901</td>\n",
              "    </tr>\n",
              "    <tr>\n",
              "      <th>3</th>\n",
              "      <td>906997653</td>\n",
              "      <td>2019-06-01</td>\n",
              "      <td>approved</td>\n",
              "      <td>25.00</td>\n",
              "      <td>True</td>\n",
              "      <td>1371</td>\n",
              "      <td>web</td>\n",
              "      <td>95448</td>\n",
              "      <td>0</td>\n",
              "      <td>0.999854</td>\n",
              "    </tr>\n",
              "    <tr>\n",
              "      <th>4</th>\n",
              "      <td>907408483</td>\n",
              "      <td>2019-06-01</td>\n",
              "      <td>approved</td>\n",
              "      <td>2035.76</td>\n",
              "      <td>False</td>\n",
              "      <td>139</td>\n",
              "      <td>web</td>\n",
              "      <td>61107</td>\n",
              "      <td>17</td>\n",
              "      <td>0.999965</td>\n",
              "    </tr>\n",
              "  </tbody>\n",
              "</table>\n",
              "</div>\n",
              "    <div class=\"colab-df-buttons\">\n",
              "\n",
              "  <div class=\"colab-df-container\">\n",
              "    <button class=\"colab-df-convert\" onclick=\"convertToInteractive('df-1269add4-0edf-4c15-a55f-02aea7c31835')\"\n",
              "            title=\"Convert this dataframe to an interactive table.\"\n",
              "            style=\"display:none;\">\n",
              "\n",
              "  <svg xmlns=\"http://www.w3.org/2000/svg\" height=\"24px\" viewBox=\"0 -960 960 960\">\n",
              "    <path d=\"M120-120v-720h720v720H120Zm60-500h600v-160H180v160Zm220 220h160v-160H400v160Zm0 220h160v-160H400v160ZM180-400h160v-160H180v160Zm440 0h160v-160H620v160ZM180-180h160v-160H180v160Zm440 0h160v-160H620v160Z\"/>\n",
              "  </svg>\n",
              "    </button>\n",
              "\n",
              "  <style>\n",
              "    .colab-df-container {\n",
              "      display:flex;\n",
              "      gap: 12px;\n",
              "    }\n",
              "\n",
              "    .colab-df-convert {\n",
              "      background-color: #E8F0FE;\n",
              "      border: none;\n",
              "      border-radius: 50%;\n",
              "      cursor: pointer;\n",
              "      display: none;\n",
              "      fill: #1967D2;\n",
              "      height: 32px;\n",
              "      padding: 0 0 0 0;\n",
              "      width: 32px;\n",
              "    }\n",
              "\n",
              "    .colab-df-convert:hover {\n",
              "      background-color: #E2EBFA;\n",
              "      box-shadow: 0px 1px 2px rgba(60, 64, 67, 0.3), 0px 1px 3px 1px rgba(60, 64, 67, 0.15);\n",
              "      fill: #174EA6;\n",
              "    }\n",
              "\n",
              "    .colab-df-buttons div {\n",
              "      margin-bottom: 4px;\n",
              "    }\n",
              "\n",
              "    [theme=dark] .colab-df-convert {\n",
              "      background-color: #3B4455;\n",
              "      fill: #D2E3FC;\n",
              "    }\n",
              "\n",
              "    [theme=dark] .colab-df-convert:hover {\n",
              "      background-color: #434B5C;\n",
              "      box-shadow: 0px 1px 3px 1px rgba(0, 0, 0, 0.15);\n",
              "      filter: drop-shadow(0px 1px 2px rgba(0, 0, 0, 0.3));\n",
              "      fill: #FFFFFF;\n",
              "    }\n",
              "  </style>\n",
              "\n",
              "    <script>\n",
              "      const buttonEl =\n",
              "        document.querySelector('#df-1269add4-0edf-4c15-a55f-02aea7c31835 button.colab-df-convert');\n",
              "      buttonEl.style.display =\n",
              "        google.colab.kernel.accessAllowed ? 'block' : 'none';\n",
              "\n",
              "      async function convertToInteractive(key) {\n",
              "        const element = document.querySelector('#df-1269add4-0edf-4c15-a55f-02aea7c31835');\n",
              "        const dataTable =\n",
              "          await google.colab.kernel.invokeFunction('convertToInteractive',\n",
              "                                                    [key], {});\n",
              "        if (!dataTable) return;\n",
              "\n",
              "        const docLinkHtml = 'Like what you see? Visit the ' +\n",
              "          '<a target=\"_blank\" href=https://colab.research.google.com/notebooks/data_table.ipynb>data table notebook</a>'\n",
              "          + ' to learn more about interactive tables.';\n",
              "        element.innerHTML = '';\n",
              "        dataTable['output_type'] = 'display_data';\n",
              "        await google.colab.output.renderOutput(dataTable, element);\n",
              "        const docLink = document.createElement('div');\n",
              "        docLink.innerHTML = docLinkHtml;\n",
              "        element.appendChild(docLink);\n",
              "      }\n",
              "    </script>\n",
              "  </div>\n",
              "\n",
              "\n",
              "    <div id=\"df-0a305608-d54e-4d04-82ce-6b685111833f\">\n",
              "      <button class=\"colab-df-quickchart\" onclick=\"quickchart('df-0a305608-d54e-4d04-82ce-6b685111833f')\"\n",
              "                title=\"Suggest charts\"\n",
              "                style=\"display:none;\">\n",
              "\n",
              "<svg xmlns=\"http://www.w3.org/2000/svg\" height=\"24px\"viewBox=\"0 0 24 24\"\n",
              "     width=\"24px\">\n",
              "    <g>\n",
              "        <path d=\"M19 3H5c-1.1 0-2 .9-2 2v14c0 1.1.9 2 2 2h14c1.1 0 2-.9 2-2V5c0-1.1-.9-2-2-2zM9 17H7v-7h2v7zm4 0h-2V7h2v10zm4 0h-2v-4h2v4z\"/>\n",
              "    </g>\n",
              "</svg>\n",
              "      </button>\n",
              "\n",
              "<style>\n",
              "  .colab-df-quickchart {\n",
              "      --bg-color: #E8F0FE;\n",
              "      --fill-color: #1967D2;\n",
              "      --hover-bg-color: #E2EBFA;\n",
              "      --hover-fill-color: #174EA6;\n",
              "      --disabled-fill-color: #AAA;\n",
              "      --disabled-bg-color: #DDD;\n",
              "  }\n",
              "\n",
              "  [theme=dark] .colab-df-quickchart {\n",
              "      --bg-color: #3B4455;\n",
              "      --fill-color: #D2E3FC;\n",
              "      --hover-bg-color: #434B5C;\n",
              "      --hover-fill-color: #FFFFFF;\n",
              "      --disabled-bg-color: #3B4455;\n",
              "      --disabled-fill-color: #666;\n",
              "  }\n",
              "\n",
              "  .colab-df-quickchart {\n",
              "    background-color: var(--bg-color);\n",
              "    border: none;\n",
              "    border-radius: 50%;\n",
              "    cursor: pointer;\n",
              "    display: none;\n",
              "    fill: var(--fill-color);\n",
              "    height: 32px;\n",
              "    padding: 0;\n",
              "    width: 32px;\n",
              "  }\n",
              "\n",
              "  .colab-df-quickchart:hover {\n",
              "    background-color: var(--hover-bg-color);\n",
              "    box-shadow: 0 1px 2px rgba(60, 64, 67, 0.3), 0 1px 3px 1px rgba(60, 64, 67, 0.15);\n",
              "    fill: var(--button-hover-fill-color);\n",
              "  }\n",
              "\n",
              "  .colab-df-quickchart-complete:disabled,\n",
              "  .colab-df-quickchart-complete:disabled:hover {\n",
              "    background-color: var(--disabled-bg-color);\n",
              "    fill: var(--disabled-fill-color);\n",
              "    box-shadow: none;\n",
              "  }\n",
              "\n",
              "  .colab-df-spinner {\n",
              "    border: 2px solid var(--fill-color);\n",
              "    border-color: transparent;\n",
              "    border-bottom-color: var(--fill-color);\n",
              "    animation:\n",
              "      spin 1s steps(1) infinite;\n",
              "  }\n",
              "\n",
              "  @keyframes spin {\n",
              "    0% {\n",
              "      border-color: transparent;\n",
              "      border-bottom-color: var(--fill-color);\n",
              "      border-left-color: var(--fill-color);\n",
              "    }\n",
              "    20% {\n",
              "      border-color: transparent;\n",
              "      border-left-color: var(--fill-color);\n",
              "      border-top-color: var(--fill-color);\n",
              "    }\n",
              "    30% {\n",
              "      border-color: transparent;\n",
              "      border-left-color: var(--fill-color);\n",
              "      border-top-color: var(--fill-color);\n",
              "      border-right-color: var(--fill-color);\n",
              "    }\n",
              "    40% {\n",
              "      border-color: transparent;\n",
              "      border-right-color: var(--fill-color);\n",
              "      border-top-color: var(--fill-color);\n",
              "    }\n",
              "    60% {\n",
              "      border-color: transparent;\n",
              "      border-right-color: var(--fill-color);\n",
              "    }\n",
              "    80% {\n",
              "      border-color: transparent;\n",
              "      border-right-color: var(--fill-color);\n",
              "      border-bottom-color: var(--fill-color);\n",
              "    }\n",
              "    90% {\n",
              "      border-color: transparent;\n",
              "      border-bottom-color: var(--fill-color);\n",
              "    }\n",
              "  }\n",
              "</style>\n",
              "\n",
              "      <script>\n",
              "        async function quickchart(key) {\n",
              "          const quickchartButtonEl =\n",
              "            document.querySelector('#' + key + ' button');\n",
              "          quickchartButtonEl.disabled = true;  // To prevent multiple clicks.\n",
              "          quickchartButtonEl.classList.add('colab-df-spinner');\n",
              "          try {\n",
              "            const charts = await google.colab.kernel.invokeFunction(\n",
              "                'suggestCharts', [key], {});\n",
              "          } catch (error) {\n",
              "            console.error('Error during call to suggestCharts:', error);\n",
              "          }\n",
              "          quickchartButtonEl.classList.remove('colab-df-spinner');\n",
              "          quickchartButtonEl.classList.add('colab-df-quickchart-complete');\n",
              "        }\n",
              "        (() => {\n",
              "          let quickchartButtonEl =\n",
              "            document.querySelector('#df-0a305608-d54e-4d04-82ce-6b685111833f button');\n",
              "          quickchartButtonEl.style.display =\n",
              "            google.colab.kernel.accessAllowed ? 'block' : 'none';\n",
              "        })();\n",
              "      </script>\n",
              "    </div>\n",
              "\n",
              "    </div>\n",
              "  </div>\n"
            ],
            "application/vnd.google.colaboratory.intrinsic+json": {
              "type": "dataframe",
              "variable_name": "df",
              "summary": "{\n  \"name\": \"df\",\n  \"rows\": 40825,\n  \"fields\": [\n    {\n      \"column\": \"order_id\",\n      \"properties\": {\n        \"dtype\": \"number\",\n        \"std\": 11522151,\n        \"min\": 906872849,\n        \"max\": 950511067,\n        \"num_unique_values\": 40825,\n        \"samples\": [\n          928305680,\n          926336765,\n          929288128\n        ],\n        \"semantic_type\": \"\",\n        \"description\": \"\"\n      }\n    },\n    {\n      \"column\": \"order_date\",\n      \"properties\": {\n        \"dtype\": \"object\",\n        \"num_unique_values\": 31,\n        \"samples\": [\n          \"2019-06-28\",\n          \"2019-06-16\",\n          \"2019-06-24\"\n        ],\n        \"semantic_type\": \"\",\n        \"description\": \"\"\n      }\n    },\n    {\n      \"column\": \"order_status\",\n      \"properties\": {\n        \"dtype\": \"category\",\n        \"num_unique_values\": 2,\n        \"samples\": [\n          \"chargeback\",\n          \"approved\"\n        ],\n        \"semantic_type\": \"\",\n        \"description\": \"\"\n      }\n    },\n    {\n      \"column\": \"price\",\n      \"properties\": {\n        \"dtype\": \"number\",\n        \"std\": 771.6418533075725,\n        \"min\": 0.0,\n        \"max\": 11033.31,\n        \"num_unique_values\": 4568,\n        \"samples\": [\n          3974.57,\n          28.1\n        ],\n        \"semantic_type\": \"\",\n        \"description\": \"\"\n      }\n    },\n    {\n      \"column\": \"digital_product\",\n      \"properties\": {\n        \"dtype\": \"boolean\",\n        \"num_unique_values\": 2,\n        \"samples\": [\n          true,\n          false\n        ],\n        \"semantic_type\": \"\",\n        \"description\": \"\"\n      }\n    },\n    {\n      \"column\": \"customer_account_age\",\n      \"properties\": {\n        \"dtype\": \"number\",\n        \"std\": 1171,\n        \"min\": -3,\n        \"max\": 6298,\n        \"num_unique_values\": 4053,\n        \"samples\": [\n          1826,\n          488\n        ],\n        \"semantic_type\": \"\",\n        \"description\": \"\"\n      }\n    },\n    {\n      \"column\": \"order_source\",\n      \"properties\": {\n        \"dtype\": \"category\",\n        \"num_unique_values\": 2,\n        \"samples\": [\n          \"mobile_app\",\n          \"web\"\n        ],\n        \"semantic_type\": \"\",\n        \"description\": \"\"\n      }\n    },\n    {\n      \"column\": \"billing_zip\",\n      \"properties\": {\n        \"dtype\": \"category\",\n        \"num_unique_values\": 10328,\n        \"samples\": [\n          \"33810\",\n          \"32812\"\n        ],\n        \"semantic_type\": \"\",\n        \"description\": \"\"\n      }\n    },\n    {\n      \"column\": \"shipping_name_length\",\n      \"properties\": {\n        \"dtype\": \"number\",\n        \"std\": 5,\n        \"min\": 0,\n        \"max\": 21,\n        \"num_unique_values\": 19,\n        \"samples\": [\n          13,\n          12\n        ],\n        \"semantic_type\": \"\",\n        \"description\": \"\"\n      }\n    },\n    {\n      \"column\": \"classification_score\",\n      \"properties\": {\n        \"dtype\": \"number\",\n        \"std\": 0.16824115745359017,\n        \"min\": 0.0384079275238902,\n        \"max\": 0.999999577324773,\n        \"num_unique_values\": 40812,\n        \"samples\": [\n          0.2131536254915,\n          0.997950624084073\n        ],\n        \"semantic_type\": \"\",\n        \"description\": \"\"\n      }\n    }\n  ]\n}"
            }
          },
          "metadata": {},
          "execution_count": 2
        }
      ]
    },
    {
      "cell_type": "code",
      "source": [
        "df.info()"
      ],
      "metadata": {
        "colab": {
          "base_uri": "https://localhost:8080/"
        },
        "id": "gNBtqVgKpUxO",
        "outputId": "c41f788d-03c6-465b-8096-642497029517"
      },
      "execution_count": 3,
      "outputs": [
        {
          "output_type": "stream",
          "name": "stdout",
          "text": [
            "<class 'pandas.core.frame.DataFrame'>\n",
            "RangeIndex: 40825 entries, 0 to 40824\n",
            "Data columns (total 10 columns):\n",
            " #   Column                Non-Null Count  Dtype  \n",
            "---  ------                --------------  -----  \n",
            " 0   order_id              40825 non-null  int64  \n",
            " 1   order_date            40825 non-null  object \n",
            " 2   order_status          40825 non-null  object \n",
            " 3   price                 40825 non-null  float64\n",
            " 4   digital_product       40825 non-null  bool   \n",
            " 5   customer_account_age  40825 non-null  int64  \n",
            " 6   order_source          40825 non-null  object \n",
            " 7   billing_zip           40825 non-null  object \n",
            " 8   shipping_name_length  40825 non-null  int64  \n",
            " 9   classification_score  40825 non-null  float64\n",
            "dtypes: bool(1), float64(2), int64(3), object(4)\n",
            "memory usage: 2.8+ MB\n"
          ]
        }
      ]
    },
    {
      "cell_type": "code",
      "source": [
        "df_ = df.copy()"
      ],
      "metadata": {
        "id": "UEN79VOupcsq"
      },
      "execution_count": 4,
      "outputs": []
    },
    {
      "cell_type": "code",
      "source": [
        "# change types\n",
        "df_['order_id'] = df_['order_id'].astype(str)\n",
        "df_['order_date'] = pd.to_datetime(df_['order_date'])\n",
        "df_['billing_zip'] = df_['billing_zip'].astype(str)"
      ],
      "metadata": {
        "id": "WbmC71u_v9WI"
      },
      "execution_count": 5,
      "outputs": []
    },
    {
      "cell_type": "code",
      "source": [
        "df_['order_status'].unique()"
      ],
      "metadata": {
        "colab": {
          "base_uri": "https://localhost:8080/"
        },
        "id": "_zg2hiRUbizp",
        "outputId": "644835bb-92e5-4e19-c770-ad49aaa26a8c"
      },
      "execution_count": 6,
      "outputs": [
        {
          "output_type": "execute_result",
          "data": {
            "text/plain": [
              "array(['approved', 'chargeback'], dtype=object)"
            ]
          },
          "metadata": {},
          "execution_count": 6
        }
      ]
    },
    {
      "cell_type": "code",
      "source": [
        "df_['order_source'].unique()"
      ],
      "metadata": {
        "colab": {
          "base_uri": "https://localhost:8080/"
        },
        "id": "1VAw9QzYcRex",
        "outputId": "3da09dee-af90-4771-e753-281211381eb2"
      },
      "execution_count": 7,
      "outputs": [
        {
          "output_type": "execute_result",
          "data": {
            "text/plain": [
              "array(['web', 'mobile_app'], dtype=object)"
            ]
          },
          "metadata": {},
          "execution_count": 7
        }
      ]
    },
    {
      "cell_type": "code",
      "source": [
        "df_.describe()"
      ],
      "metadata": {
        "colab": {
          "base_uri": "https://localhost:8080/",
          "height": 300
        },
        "id": "IWqd3pcdcZgu",
        "outputId": "d6cbd423-ebf7-4ed7-a448-803f7ea00d17"
      },
      "execution_count": 8,
      "outputs": [
        {
          "output_type": "execute_result",
          "data": {
            "text/plain": [
              "                          order_date         price  customer_account_age  \\\n",
              "count                          40825  40825.000000          40825.000000   \n",
              "mean   2019-06-15 20:29:35.970606336    396.114069            736.804556   \n",
              "min              2019-06-01 00:00:00      0.000000             -3.000000   \n",
              "25%              2019-06-10 00:00:00     35.000000              0.000000   \n",
              "50%              2019-06-16 00:00:00     82.440000            214.000000   \n",
              "75%              2019-06-22 00:00:00    280.210000            980.000000   \n",
              "max              2019-07-01 00:00:00  11033.310000           6298.000000   \n",
              "std                              NaN    771.641853           1171.305366   \n",
              "\n",
              "       shipping_name_length  classification_score  \n",
              "count          40825.000000          40825.000000  \n",
              "mean               4.036375              0.943287  \n",
              "min                0.000000              0.038408  \n",
              "25%                0.000000              0.988642  \n",
              "50%                0.000000              0.999177  \n",
              "75%               10.000000              0.999895  \n",
              "max               21.000000              1.000000  \n",
              "std                5.901319              0.168241  "
            ],
            "text/html": [
              "\n",
              "  <div id=\"df-0246e286-83c5-49f4-ba06-58d9565cdc7f\" class=\"colab-df-container\">\n",
              "    <div>\n",
              "<style scoped>\n",
              "    .dataframe tbody tr th:only-of-type {\n",
              "        vertical-align: middle;\n",
              "    }\n",
              "\n",
              "    .dataframe tbody tr th {\n",
              "        vertical-align: top;\n",
              "    }\n",
              "\n",
              "    .dataframe thead th {\n",
              "        text-align: right;\n",
              "    }\n",
              "</style>\n",
              "<table border=\"1\" class=\"dataframe\">\n",
              "  <thead>\n",
              "    <tr style=\"text-align: right;\">\n",
              "      <th></th>\n",
              "      <th>order_date</th>\n",
              "      <th>price</th>\n",
              "      <th>customer_account_age</th>\n",
              "      <th>shipping_name_length</th>\n",
              "      <th>classification_score</th>\n",
              "    </tr>\n",
              "  </thead>\n",
              "  <tbody>\n",
              "    <tr>\n",
              "      <th>count</th>\n",
              "      <td>40825</td>\n",
              "      <td>40825.000000</td>\n",
              "      <td>40825.000000</td>\n",
              "      <td>40825.000000</td>\n",
              "      <td>40825.000000</td>\n",
              "    </tr>\n",
              "    <tr>\n",
              "      <th>mean</th>\n",
              "      <td>2019-06-15 20:29:35.970606336</td>\n",
              "      <td>396.114069</td>\n",
              "      <td>736.804556</td>\n",
              "      <td>4.036375</td>\n",
              "      <td>0.943287</td>\n",
              "    </tr>\n",
              "    <tr>\n",
              "      <th>min</th>\n",
              "      <td>2019-06-01 00:00:00</td>\n",
              "      <td>0.000000</td>\n",
              "      <td>-3.000000</td>\n",
              "      <td>0.000000</td>\n",
              "      <td>0.038408</td>\n",
              "    </tr>\n",
              "    <tr>\n",
              "      <th>25%</th>\n",
              "      <td>2019-06-10 00:00:00</td>\n",
              "      <td>35.000000</td>\n",
              "      <td>0.000000</td>\n",
              "      <td>0.000000</td>\n",
              "      <td>0.988642</td>\n",
              "    </tr>\n",
              "    <tr>\n",
              "      <th>50%</th>\n",
              "      <td>2019-06-16 00:00:00</td>\n",
              "      <td>82.440000</td>\n",
              "      <td>214.000000</td>\n",
              "      <td>0.000000</td>\n",
              "      <td>0.999177</td>\n",
              "    </tr>\n",
              "    <tr>\n",
              "      <th>75%</th>\n",
              "      <td>2019-06-22 00:00:00</td>\n",
              "      <td>280.210000</td>\n",
              "      <td>980.000000</td>\n",
              "      <td>10.000000</td>\n",
              "      <td>0.999895</td>\n",
              "    </tr>\n",
              "    <tr>\n",
              "      <th>max</th>\n",
              "      <td>2019-07-01 00:00:00</td>\n",
              "      <td>11033.310000</td>\n",
              "      <td>6298.000000</td>\n",
              "      <td>21.000000</td>\n",
              "      <td>1.000000</td>\n",
              "    </tr>\n",
              "    <tr>\n",
              "      <th>std</th>\n",
              "      <td>NaN</td>\n",
              "      <td>771.641853</td>\n",
              "      <td>1171.305366</td>\n",
              "      <td>5.901319</td>\n",
              "      <td>0.168241</td>\n",
              "    </tr>\n",
              "  </tbody>\n",
              "</table>\n",
              "</div>\n",
              "    <div class=\"colab-df-buttons\">\n",
              "\n",
              "  <div class=\"colab-df-container\">\n",
              "    <button class=\"colab-df-convert\" onclick=\"convertToInteractive('df-0246e286-83c5-49f4-ba06-58d9565cdc7f')\"\n",
              "            title=\"Convert this dataframe to an interactive table.\"\n",
              "            style=\"display:none;\">\n",
              "\n",
              "  <svg xmlns=\"http://www.w3.org/2000/svg\" height=\"24px\" viewBox=\"0 -960 960 960\">\n",
              "    <path d=\"M120-120v-720h720v720H120Zm60-500h600v-160H180v160Zm220 220h160v-160H400v160Zm0 220h160v-160H400v160ZM180-400h160v-160H180v160Zm440 0h160v-160H620v160ZM180-180h160v-160H180v160Zm440 0h160v-160H620v160Z\"/>\n",
              "  </svg>\n",
              "    </button>\n",
              "\n",
              "  <style>\n",
              "    .colab-df-container {\n",
              "      display:flex;\n",
              "      gap: 12px;\n",
              "    }\n",
              "\n",
              "    .colab-df-convert {\n",
              "      background-color: #E8F0FE;\n",
              "      border: none;\n",
              "      border-radius: 50%;\n",
              "      cursor: pointer;\n",
              "      display: none;\n",
              "      fill: #1967D2;\n",
              "      height: 32px;\n",
              "      padding: 0 0 0 0;\n",
              "      width: 32px;\n",
              "    }\n",
              "\n",
              "    .colab-df-convert:hover {\n",
              "      background-color: #E2EBFA;\n",
              "      box-shadow: 0px 1px 2px rgba(60, 64, 67, 0.3), 0px 1px 3px 1px rgba(60, 64, 67, 0.15);\n",
              "      fill: #174EA6;\n",
              "    }\n",
              "\n",
              "    .colab-df-buttons div {\n",
              "      margin-bottom: 4px;\n",
              "    }\n",
              "\n",
              "    [theme=dark] .colab-df-convert {\n",
              "      background-color: #3B4455;\n",
              "      fill: #D2E3FC;\n",
              "    }\n",
              "\n",
              "    [theme=dark] .colab-df-convert:hover {\n",
              "      background-color: #434B5C;\n",
              "      box-shadow: 0px 1px 3px 1px rgba(0, 0, 0, 0.15);\n",
              "      filter: drop-shadow(0px 1px 2px rgba(0, 0, 0, 0.3));\n",
              "      fill: #FFFFFF;\n",
              "    }\n",
              "  </style>\n",
              "\n",
              "    <script>\n",
              "      const buttonEl =\n",
              "        document.querySelector('#df-0246e286-83c5-49f4-ba06-58d9565cdc7f button.colab-df-convert');\n",
              "      buttonEl.style.display =\n",
              "        google.colab.kernel.accessAllowed ? 'block' : 'none';\n",
              "\n",
              "      async function convertToInteractive(key) {\n",
              "        const element = document.querySelector('#df-0246e286-83c5-49f4-ba06-58d9565cdc7f');\n",
              "        const dataTable =\n",
              "          await google.colab.kernel.invokeFunction('convertToInteractive',\n",
              "                                                    [key], {});\n",
              "        if (!dataTable) return;\n",
              "\n",
              "        const docLinkHtml = 'Like what you see? Visit the ' +\n",
              "          '<a target=\"_blank\" href=https://colab.research.google.com/notebooks/data_table.ipynb>data table notebook</a>'\n",
              "          + ' to learn more about interactive tables.';\n",
              "        element.innerHTML = '';\n",
              "        dataTable['output_type'] = 'display_data';\n",
              "        await google.colab.output.renderOutput(dataTable, element);\n",
              "        const docLink = document.createElement('div');\n",
              "        docLink.innerHTML = docLinkHtml;\n",
              "        element.appendChild(docLink);\n",
              "      }\n",
              "    </script>\n",
              "  </div>\n",
              "\n",
              "\n",
              "    <div id=\"df-25361e81-59d0-468f-b17d-84c329ffe45c\">\n",
              "      <button class=\"colab-df-quickchart\" onclick=\"quickchart('df-25361e81-59d0-468f-b17d-84c329ffe45c')\"\n",
              "                title=\"Suggest charts\"\n",
              "                style=\"display:none;\">\n",
              "\n",
              "<svg xmlns=\"http://www.w3.org/2000/svg\" height=\"24px\"viewBox=\"0 0 24 24\"\n",
              "     width=\"24px\">\n",
              "    <g>\n",
              "        <path d=\"M19 3H5c-1.1 0-2 .9-2 2v14c0 1.1.9 2 2 2h14c1.1 0 2-.9 2-2V5c0-1.1-.9-2-2-2zM9 17H7v-7h2v7zm4 0h-2V7h2v10zm4 0h-2v-4h2v4z\"/>\n",
              "    </g>\n",
              "</svg>\n",
              "      </button>\n",
              "\n",
              "<style>\n",
              "  .colab-df-quickchart {\n",
              "      --bg-color: #E8F0FE;\n",
              "      --fill-color: #1967D2;\n",
              "      --hover-bg-color: #E2EBFA;\n",
              "      --hover-fill-color: #174EA6;\n",
              "      --disabled-fill-color: #AAA;\n",
              "      --disabled-bg-color: #DDD;\n",
              "  }\n",
              "\n",
              "  [theme=dark] .colab-df-quickchart {\n",
              "      --bg-color: #3B4455;\n",
              "      --fill-color: #D2E3FC;\n",
              "      --hover-bg-color: #434B5C;\n",
              "      --hover-fill-color: #FFFFFF;\n",
              "      --disabled-bg-color: #3B4455;\n",
              "      --disabled-fill-color: #666;\n",
              "  }\n",
              "\n",
              "  .colab-df-quickchart {\n",
              "    background-color: var(--bg-color);\n",
              "    border: none;\n",
              "    border-radius: 50%;\n",
              "    cursor: pointer;\n",
              "    display: none;\n",
              "    fill: var(--fill-color);\n",
              "    height: 32px;\n",
              "    padding: 0;\n",
              "    width: 32px;\n",
              "  }\n",
              "\n",
              "  .colab-df-quickchart:hover {\n",
              "    background-color: var(--hover-bg-color);\n",
              "    box-shadow: 0 1px 2px rgba(60, 64, 67, 0.3), 0 1px 3px 1px rgba(60, 64, 67, 0.15);\n",
              "    fill: var(--button-hover-fill-color);\n",
              "  }\n",
              "\n",
              "  .colab-df-quickchart-complete:disabled,\n",
              "  .colab-df-quickchart-complete:disabled:hover {\n",
              "    background-color: var(--disabled-bg-color);\n",
              "    fill: var(--disabled-fill-color);\n",
              "    box-shadow: none;\n",
              "  }\n",
              "\n",
              "  .colab-df-spinner {\n",
              "    border: 2px solid var(--fill-color);\n",
              "    border-color: transparent;\n",
              "    border-bottom-color: var(--fill-color);\n",
              "    animation:\n",
              "      spin 1s steps(1) infinite;\n",
              "  }\n",
              "\n",
              "  @keyframes spin {\n",
              "    0% {\n",
              "      border-color: transparent;\n",
              "      border-bottom-color: var(--fill-color);\n",
              "      border-left-color: var(--fill-color);\n",
              "    }\n",
              "    20% {\n",
              "      border-color: transparent;\n",
              "      border-left-color: var(--fill-color);\n",
              "      border-top-color: var(--fill-color);\n",
              "    }\n",
              "    30% {\n",
              "      border-color: transparent;\n",
              "      border-left-color: var(--fill-color);\n",
              "      border-top-color: var(--fill-color);\n",
              "      border-right-color: var(--fill-color);\n",
              "    }\n",
              "    40% {\n",
              "      border-color: transparent;\n",
              "      border-right-color: var(--fill-color);\n",
              "      border-top-color: var(--fill-color);\n",
              "    }\n",
              "    60% {\n",
              "      border-color: transparent;\n",
              "      border-right-color: var(--fill-color);\n",
              "    }\n",
              "    80% {\n",
              "      border-color: transparent;\n",
              "      border-right-color: var(--fill-color);\n",
              "      border-bottom-color: var(--fill-color);\n",
              "    }\n",
              "    90% {\n",
              "      border-color: transparent;\n",
              "      border-bottom-color: var(--fill-color);\n",
              "    }\n",
              "  }\n",
              "</style>\n",
              "\n",
              "      <script>\n",
              "        async function quickchart(key) {\n",
              "          const quickchartButtonEl =\n",
              "            document.querySelector('#' + key + ' button');\n",
              "          quickchartButtonEl.disabled = true;  // To prevent multiple clicks.\n",
              "          quickchartButtonEl.classList.add('colab-df-spinner');\n",
              "          try {\n",
              "            const charts = await google.colab.kernel.invokeFunction(\n",
              "                'suggestCharts', [key], {});\n",
              "          } catch (error) {\n",
              "            console.error('Error during call to suggestCharts:', error);\n",
              "          }\n",
              "          quickchartButtonEl.classList.remove('colab-df-spinner');\n",
              "          quickchartButtonEl.classList.add('colab-df-quickchart-complete');\n",
              "        }\n",
              "        (() => {\n",
              "          let quickchartButtonEl =\n",
              "            document.querySelector('#df-25361e81-59d0-468f-b17d-84c329ffe45c button');\n",
              "          quickchartButtonEl.style.display =\n",
              "            google.colab.kernel.accessAllowed ? 'block' : 'none';\n",
              "        })();\n",
              "      </script>\n",
              "    </div>\n",
              "\n",
              "    </div>\n",
              "  </div>\n"
            ],
            "application/vnd.google.colaboratory.intrinsic+json": {
              "type": "dataframe",
              "summary": "{\n  \"name\": \"df_\",\n  \"rows\": 8,\n  \"fields\": [\n    {\n      \"column\": \"order_date\",\n      \"properties\": {\n        \"dtype\": \"date\",\n        \"min\": \"1970-01-01 00:00:00.000040825\",\n        \"max\": \"2019-07-01 00:00:00\",\n        \"num_unique_values\": 7,\n        \"samples\": [\n          \"40825\",\n          \"2019-06-15 20:29:35.970606336\",\n          \"2019-06-22 00:00:00\"\n        ],\n        \"semantic_type\": \"\",\n        \"description\": \"\"\n      }\n    },\n    {\n      \"column\": \"price\",\n      \"properties\": {\n        \"dtype\": \"number\",\n        \"std\": 14305.302479430567,\n        \"min\": 0.0,\n        \"max\": 40825.0,\n        \"num_unique_values\": 8,\n        \"samples\": [\n          396.11406858542557,\n          280.21,\n          40825.0\n        ],\n        \"semantic_type\": \"\",\n        \"description\": \"\"\n      }\n    },\n    {\n      \"column\": \"customer_account_age\",\n      \"properties\": {\n        \"dtype\": \"number\",\n        \"std\": 14111.717170916729,\n        \"min\": -3.0,\n        \"max\": 40825.0,\n        \"num_unique_values\": 8,\n        \"samples\": [\n          736.8045560318433,\n          980.0,\n          40825.0\n        ],\n        \"semantic_type\": \"\",\n        \"description\": \"\"\n      }\n    },\n    {\n      \"column\": \"shipping_name_length\",\n      \"properties\": {\n        \"dtype\": \"number\",\n        \"std\": 14431.751250862068,\n        \"min\": 0.0,\n        \"max\": 40825.0,\n        \"num_unique_values\": 6,\n        \"samples\": [\n          40825.0,\n          4.036374770361299,\n          5.901319165083052\n        ],\n        \"semantic_type\": \"\",\n        \"description\": \"\"\n      }\n    },\n    {\n      \"column\": \"classification_score\",\n      \"properties\": {\n        \"dtype\": \"number\",\n        \"std\": 14433.55768599594,\n        \"min\": 0.0384079275238902,\n        \"max\": 40825.0,\n        \"num_unique_values\": 8,\n        \"samples\": [\n          0.9432873483739751,\n          0.999895390842554,\n          40825.0\n        ],\n        \"semantic_type\": \"\",\n        \"description\": \"\"\n      }\n    }\n  ]\n}"
            }
          },
          "metadata": {},
          "execution_count": 8
        }
      ]
    },
    {
      "cell_type": "markdown",
      "source": [
        "## Task 1"
      ],
      "metadata": {
        "id": "TcshbaS3w5ms"
      }
    },
    {
      "cell_type": "code",
      "source": [
        "# calculate the percentile for a 90% pass rate\n",
        "threshold = df_['classification_score'].quantile(0.10)\n",
        "print(f'Threshold for 90% approval: {threshold}')\n"
      ],
      "metadata": {
        "colab": {
          "base_uri": "https://localhost:8080/"
        },
        "id": "VkvkR9jKy62z",
        "outputId": "f6bba82a-3f41-4720-fe24-9ce320bb545a"
      },
      "execution_count": 9,
      "outputs": [
        {
          "output_type": "stream",
          "name": "stdout",
          "text": [
            "Threshold for 90% approval: 0.8608025151521428\n"
          ]
        }
      ]
    },
    {
      "cell_type": "code",
      "source": [
        "# checking the proportions in practice\n",
        "approved = df[df['classification_score'] >= threshold]\n",
        "declined = df[df['classification_score'] < threshold]\n",
        "\n",
        "print(f'Proportion of approved: {len(approved)/len(df):.2%}')\n",
        "print(f'Proportion of declined: {len(declined)/len(df):.2%}')\n"
      ],
      "metadata": {
        "colab": {
          "base_uri": "https://localhost:8080/"
        },
        "id": "HT1n-VnrAoqx",
        "outputId": "d5f1820a-7106-472a-8544-8994b03fd0ca"
      },
      "execution_count": 10,
      "outputs": [
        {
          "output_type": "stream",
          "name": "stdout",
          "text": [
            "Proportion of approved: 90.00%\n",
            "Proportion of declined: 10.00%\n"
          ]
        }
      ]
    },
    {
      "cell_type": "markdown",
      "source": [
        "<font color=#482BFF>10% of orders have a score of up to 0.86, and 90% have a score above 0.86.</font>"
      ],
      "metadata": {
        "id": "zdyEX4jSGQsz"
      }
    },
    {
      "cell_type": "markdown",
      "source": [
        "## Task 2"
      ],
      "metadata": {
        "id": "pIsAlEFXy338"
      }
    },
    {
      "cell_type": "code",
      "source": [
        "plt.figure(figsize=(10,6))\n",
        "sns.histplot(df_['classification_score'], bins=50, kde=True, color='#01BFA6')\n",
        "\n",
        "plt.axvline(threshold, color='red', linestyle='--', label=f'Threshold {threshold:.2f}')\n",
        "\n",
        "plt.axvspan(0, threshold, color='gray', alpha=0.3, label='Declined (< Threshold)')\n",
        "\n",
        "plt.axvspan(threshold, 1, color='lightgreen', alpha=0.3, label='Approved (>= Threshold)')\n",
        "\n",
        "plt.title('Distribution of Scores')\n",
        "plt.xlabel('Score')\n",
        "plt.ylabel('Frequency')\n",
        "plt.legend()\n",
        "plt.show()\n"
      ],
      "metadata": {
        "colab": {
          "base_uri": "https://localhost:8080/",
          "height": 564
        },
        "id": "OU89-sXELL3R",
        "outputId": "d9d44af5-2d46-4177-d0c9-2ca0494b0361"
      },
      "execution_count": 11,
      "outputs": [
        {
          "output_type": "display_data",
          "data": {
            "text/plain": [
              "<Figure size 1000x600 with 1 Axes>"
            ],
            "image/png": "[encoded data removed]"
          },
          "metadata": {}
        }
      ]
    },
    {
      "cell_type": "markdown",
      "source": [
        "## Task 3"
      ],
      "metadata": {
        "id": "3iA7JiE3y5M3"
      }
    },
    {
      "cell_type": "code",
      "source": [
        "# orders approved by the model with the threshold found\n",
        "df_['model_decision'] = df_['classification_score'].apply(lambda x: 'approve' if x >= threshold else 'decline')\n",
        "\n",
        "# only approved orders\n",
        "approved_orders = df_[df_['model_decision'] == 'approve']\n",
        "\n",
        "# total cost of approved chargebacks\n",
        "chb_cost = approved_orders[approved_orders['order_status'] == 'chargeback']['price'].sum()\n",
        "\n",
        "# potential revenue (fee * total price of approved orders)\n",
        "total_approved_revenue = approved_orders['price'].sum()\n",
        "\n",
        "# fee required for the cost of CHB to be 50% of revenue\n",
        "fee_needed = chb_cost / (0.5 * total_approved_revenue)\n",
        "\n",
        "print(f'Total cost of CHB in approved applications: {chb_cost:.2f}')\n",
        "print(f'Total revenue from approved applications: {total_approved_revenue:.2f}')\n",
        "print(f'Fee required for CHB cost to be 50% of revenue: {fee_needed:.4f} ({fee_needed*100:.2f}%)')\n"
      ],
      "metadata": {
        "colab": {
          "base_uri": "https://localhost:8080/"
        },
        "id": "R7nKjjTEsrD-",
        "outputId": "62b75fab-a146-4550-f283-e44ceca8f55d"
      },
      "execution_count": 12,
      "outputs": [
        {
          "output_type": "stream",
          "name": "stdout",
          "text": [
            "Total cost of CHB in approved applications: 15092.94\n",
            "Total revenue from approved applications: 15411656.27\n",
            "Fee required for CHB cost to be 50% of revenue: 0.0020 (0.20%)\n"
          ]
        }
      ]
    }
  ]
}